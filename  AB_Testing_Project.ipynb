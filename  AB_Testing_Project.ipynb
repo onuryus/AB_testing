{
 "cells": [
  {
   "cell_type": "markdown",
   "id": "c6f98b3c-7917-4c42-8451-d18ad0b00e39",
   "metadata": {},
   "source": [
    "# A/B Testing Project"
   ]
  },
  {
   "cell_type": "code",
   "execution_count": null,
   "id": "346e3e40-e454-4d5e-b02b-bb2af25f987b",
   "metadata": {},
   "outputs": [],
   "source": []
  },
  {
   "cell_type": "markdown",
   "id": "1cad5420-97ca-446e-a01d-51902a3abc7f",
   "metadata": {},
   "source": [
    "Imagine you are a company that advertises on television. Your advertising expenses are very high, and you believe some costs need to be reduced. The first thing that comes to mind is: Are the ads really working? Should I reduce them, and if so, what should I focus on reducing? Which time slot or hour would be better to cut back on?\n",
    "These types of questions have always been on the minds of companies. In this project, I present an analysis that provides answers to these questions."
   ]
  },
  {
   "cell_type": "markdown",
   "id": "77ee846b-737d-4af4-87e9-d77aea77bf74",
   "metadata": {},
   "source": [
    "## OBJECTIVE\n",
    "To check whether the advertisements are truly meaningful. \n",
    "If a reduction in advertisements is considered, comparing the high-cost prime time slot with other slots and evaluating its importance."
   ]
  },
  {
   "cell_type": "markdown",
   "id": "ea8cb132-dce0-420b-897f-a756a2f84853",
   "metadata": {},
   "source": [
    "Our hypotheses:\n",
    "\n",
    "**H<sub>0</sub>:* There is no significant difference between the effects of public service announcements (PSA) and company advertisements (ad).  \n",
    "**H<sub>1</sub>:* There is a significant difference between the effects of public service announcements (PSA) and company advertisements (ad).\n",
    "\n",
    "Tests were conducted with p-values less than 0.05 considered statistically significant."
   ]
  },
  {
   "cell_type": "markdown",
   "id": "5ab50cf4-5dbb-4b98-af4f-187730f1f1f1",
   "metadata": {},
   "source": [
    "# Data Dictionary\n",
    "* user id: User ID (unique)\n",
    "* test group: If \"ad\" the person saw the advertisement, if \"psa\" they only saw the public service announcement\n",
    "* converted: If a person bought the product then True, else is False\n",
    "* total ads: Amount of ads seen by person\n",
    "* most ads day: Day that the person saw the biggest amount of ads\n",
    "* most ads hour: Hour of day that the person saw the biggest amount of ads\n",
    "\n"
   ]
  },
  {
   "cell_type": "markdown",
   "id": "a49dc6a3-f02d-431d-8d1d-481be28e8ff8",
   "metadata": {},
   "source": []
  },
  {
   "cell_type": "markdown",
   "id": "5ae68c9e-3ae7-4302-88de-15cff260386d",
   "metadata": {},
   "source": [
    "# Code"
   ]
  },
  {
   "cell_type": "code",
   "execution_count": 2,
   "id": "0b98bfe2-d7a0-47bc-b540-f9fba8e7294c",
   "metadata": {},
   "outputs": [],
   "source": [
    "import pandas as pd\n",
    "import numpy as np\n",
    "import seaborn as sns\n",
    "import matplotlib.pylab as plt\n",
    "from sklearn.preprocessing import StandardScaler, MinMaxScaler\n",
    "import statsmodels.stats.api as sms\n",
    "from scipy.stats import norm, boxcox, stats\n",
    "from tqdm import tqdm\n",
    "from math import ceil\n",
    "import matplotlib.pyplot as plt\n",
    "\n",
    "import warnings\n",
    "\n",
    "# Tüm uyarıları gizle\n",
    "warnings.filterwarnings(\"ignore\")\n"
   ]
  },
  {
   "cell_type": "code",
   "execution_count": 3,
   "id": "6549edab-691e-4e28-b7b4-e504c8e8c8c8",
   "metadata": {},
   "outputs": [
    {
     "data": {
      "text/html": [
       "<div>\n",
       "<style scoped>\n",
       "    .dataframe tbody tr th:only-of-type {\n",
       "        vertical-align: middle;\n",
       "    }\n",
       "\n",
       "    .dataframe tbody tr th {\n",
       "        vertical-align: top;\n",
       "    }\n",
       "\n",
       "    .dataframe thead th {\n",
       "        text-align: right;\n",
       "    }\n",
       "</style>\n",
       "<table border=\"1\" class=\"dataframe\">\n",
       "  <thead>\n",
       "    <tr style=\"text-align: right;\">\n",
       "      <th></th>\n",
       "      <th>user id</th>\n",
       "      <th>test group</th>\n",
       "      <th>converted</th>\n",
       "      <th>total ads</th>\n",
       "      <th>most ads day</th>\n",
       "      <th>most ads hour</th>\n",
       "    </tr>\n",
       "  </thead>\n",
       "  <tbody>\n",
       "    <tr>\n",
       "      <th>0</th>\n",
       "      <td>1069124</td>\n",
       "      <td>ad</td>\n",
       "      <td>False</td>\n",
       "      <td>130</td>\n",
       "      <td>Monday</td>\n",
       "      <td>20</td>\n",
       "    </tr>\n",
       "    <tr>\n",
       "      <th>1</th>\n",
       "      <td>1119715</td>\n",
       "      <td>ad</td>\n",
       "      <td>False</td>\n",
       "      <td>93</td>\n",
       "      <td>Tuesday</td>\n",
       "      <td>22</td>\n",
       "    </tr>\n",
       "    <tr>\n",
       "      <th>2</th>\n",
       "      <td>1144181</td>\n",
       "      <td>ad</td>\n",
       "      <td>False</td>\n",
       "      <td>21</td>\n",
       "      <td>Tuesday</td>\n",
       "      <td>18</td>\n",
       "    </tr>\n",
       "    <tr>\n",
       "      <th>3</th>\n",
       "      <td>1435133</td>\n",
       "      <td>ad</td>\n",
       "      <td>False</td>\n",
       "      <td>355</td>\n",
       "      <td>Tuesday</td>\n",
       "      <td>10</td>\n",
       "    </tr>\n",
       "    <tr>\n",
       "      <th>4</th>\n",
       "      <td>1015700</td>\n",
       "      <td>ad</td>\n",
       "      <td>False</td>\n",
       "      <td>276</td>\n",
       "      <td>Friday</td>\n",
       "      <td>14</td>\n",
       "    </tr>\n",
       "    <tr>\n",
       "      <th>...</th>\n",
       "      <td>...</td>\n",
       "      <td>...</td>\n",
       "      <td>...</td>\n",
       "      <td>...</td>\n",
       "      <td>...</td>\n",
       "      <td>...</td>\n",
       "    </tr>\n",
       "    <tr>\n",
       "      <th>588096</th>\n",
       "      <td>1278437</td>\n",
       "      <td>ad</td>\n",
       "      <td>False</td>\n",
       "      <td>1</td>\n",
       "      <td>Tuesday</td>\n",
       "      <td>23</td>\n",
       "    </tr>\n",
       "    <tr>\n",
       "      <th>588097</th>\n",
       "      <td>1327975</td>\n",
       "      <td>ad</td>\n",
       "      <td>False</td>\n",
       "      <td>1</td>\n",
       "      <td>Tuesday</td>\n",
       "      <td>23</td>\n",
       "    </tr>\n",
       "    <tr>\n",
       "      <th>588098</th>\n",
       "      <td>1038442</td>\n",
       "      <td>ad</td>\n",
       "      <td>False</td>\n",
       "      <td>3</td>\n",
       "      <td>Tuesday</td>\n",
       "      <td>23</td>\n",
       "    </tr>\n",
       "    <tr>\n",
       "      <th>588099</th>\n",
       "      <td>1496395</td>\n",
       "      <td>ad</td>\n",
       "      <td>False</td>\n",
       "      <td>1</td>\n",
       "      <td>Tuesday</td>\n",
       "      <td>23</td>\n",
       "    </tr>\n",
       "    <tr>\n",
       "      <th>588100</th>\n",
       "      <td>1237779</td>\n",
       "      <td>ad</td>\n",
       "      <td>False</td>\n",
       "      <td>1</td>\n",
       "      <td>Tuesday</td>\n",
       "      <td>23</td>\n",
       "    </tr>\n",
       "  </tbody>\n",
       "</table>\n",
       "<p>588101 rows × 6 columns</p>\n",
       "</div>"
      ],
      "text/plain": [
       "        user id test group  converted  total ads most ads day  most ads hour\n",
       "0       1069124         ad      False        130       Monday             20\n",
       "1       1119715         ad      False         93      Tuesday             22\n",
       "2       1144181         ad      False         21      Tuesday             18\n",
       "3       1435133         ad      False        355      Tuesday             10\n",
       "4       1015700         ad      False        276       Friday             14\n",
       "...         ...        ...        ...        ...          ...            ...\n",
       "588096  1278437         ad      False          1      Tuesday             23\n",
       "588097  1327975         ad      False          1      Tuesday             23\n",
       "588098  1038442         ad      False          3      Tuesday             23\n",
       "588099  1496395         ad      False          1      Tuesday             23\n",
       "588100  1237779         ad      False          1      Tuesday             23\n",
       "\n",
       "[588101 rows x 6 columns]"
      ]
     },
     "execution_count": 3,
     "metadata": {},
     "output_type": "execute_result"
    }
   ],
   "source": [
    "marketing = pd.read_csv('marketing_AB2.csv')\n",
    "marketing = marketing.drop('Unnamed: 0', axis=1)\n",
    "marketing"
   ]
  },
  {
   "cell_type": "markdown",
   "id": "e3102d1b-3f92-4419-b5df-1eec0a504a61",
   "metadata": {},
   "source": [
    "## Exploratory Data Analysis"
   ]
  },
  {
   "cell_type": "code",
   "execution_count": 6,
   "id": "c013466b-0e48-4eeb-808c-f3ecb4e41958",
   "metadata": {},
   "outputs": [
    {
     "data": {
      "image/png": "[encoded data removed]",
      "text/plain": [
       "<Figure size 1200x600 with 1 Axes>"
      ]
     },
     "metadata": {},
     "output_type": "display_data"
    }
   ],
   "source": [
    "day_counts = marketing['most ads day'].value_counts()\n",
    "\n",
    "plt.figure(figsize=(12, 6))\n",
    "colors = plt.get_cmap('tab20')\n",
    "plt.bar(day_counts.index, day_counts.values, color=colors(range(len(day_counts))))\n",
    "plt.xlabel('Days')\n",
    "plt.ylabel('Number of Advertisements')\n",
    "plt.title('Number of Advertisements by Day')\n",
    "plt.grid(axis='y', linestyle='--', alpha=0.7)\n",
    "plt.tight_layout()\n",
    "plt.show()\n"
   ]
  },
  {
   "cell_type": "markdown",
   "id": "5fa92995-b42d-4701-8e4a-7b2e42b64892",
   "metadata": {},
   "source": [
    "We can see that similar numbers of advertisements were shown on almost all days."
   ]
  },
  {
   "cell_type": "code",
   "execution_count": 7,
   "id": "4a3a459c-4c8d-4a15-9fe3-640145bafd37",
   "metadata": {},
   "outputs": [
    {
     "data": {
      "image/png": "[encoded data removed]",
      "text/plain": [
       "<Figure size 1200x600 with 1 Axes>"
      ]
     },
     "metadata": {},
     "output_type": "display_data"
    }
   ],
   "source": [
    "hour_counts = marketing['most ads hour'].value_counts().sort_index()\n",
    "\n",
    "plt.figure(figsize=(12, 6))\n",
    "colors = plt.get_cmap('tab20')\n",
    "plt.bar(hour_counts.index, hour_counts.values, color=colors(range(len(hour_counts))))\n",
    "plt.xlabel('Time')\n",
    "plt.ylabel('Number of Advertisements')\n",
    "plt.title('Number of Advertisements by Time')\n",
    "plt.grid(axis='y', linestyle='--', alpha=0.7)\n",
    "plt.tight_layout()\n",
    "plt.show()\n"
   ]
  },
  {
   "cell_type": "markdown",
   "id": "5f1b5fcc-fc6d-4b01-9028-c796b9eb030c",
   "metadata": {},
   "source": [
    "The situation is somewhat different during the hours. Particularly between 10 AM and 4 PM, there is a significant increase in the amount of advertisements, while we observe a plateau during prime time.\n",
    "\n",
    "\n",
    "\n",
    "\n",
    "\n",
    "\n"
   ]
  },
  {
   "cell_type": "code",
   "execution_count": null,
   "id": "45871be6-de38-4922-944b-3e277824f5d9",
   "metadata": {},
   "outputs": [],
   "source": []
  },
  {
   "cell_type": "code",
   "execution_count": 8,
   "id": "b4aa77c9-faa2-4c62-b995-85a69b4addcd",
   "metadata": {},
   "outputs": [
    {
     "data": {
      "text/html": [
       "<div>\n",
       "<style scoped>\n",
       "    .dataframe tbody tr th:only-of-type {\n",
       "        vertical-align: middle;\n",
       "    }\n",
       "\n",
       "    .dataframe tbody tr th {\n",
       "        vertical-align: top;\n",
       "    }\n",
       "\n",
       "    .dataframe thead th {\n",
       "        text-align: right;\n",
       "    }\n",
       "</style>\n",
       "<table border=\"1\" class=\"dataframe\">\n",
       "  <thead>\n",
       "    <tr style=\"text-align: right;\">\n",
       "      <th></th>\n",
       "      <th>user id</th>\n",
       "      <th>total ads</th>\n",
       "      <th>most ads hour</th>\n",
       "    </tr>\n",
       "  </thead>\n",
       "  <tbody>\n",
       "    <tr>\n",
       "      <th>count</th>\n",
       "      <td>5.881010e+05</td>\n",
       "      <td>588101.000000</td>\n",
       "      <td>588101.000000</td>\n",
       "    </tr>\n",
       "    <tr>\n",
       "      <th>mean</th>\n",
       "      <td>1.310692e+06</td>\n",
       "      <td>24.820876</td>\n",
       "      <td>14.469061</td>\n",
       "    </tr>\n",
       "    <tr>\n",
       "      <th>std</th>\n",
       "      <td>2.022260e+05</td>\n",
       "      <td>43.715181</td>\n",
       "      <td>4.834634</td>\n",
       "    </tr>\n",
       "    <tr>\n",
       "      <th>min</th>\n",
       "      <td>9.000000e+05</td>\n",
       "      <td>1.000000</td>\n",
       "      <td>0.000000</td>\n",
       "    </tr>\n",
       "    <tr>\n",
       "      <th>25%</th>\n",
       "      <td>1.143190e+06</td>\n",
       "      <td>4.000000</td>\n",
       "      <td>11.000000</td>\n",
       "    </tr>\n",
       "    <tr>\n",
       "      <th>50%</th>\n",
       "      <td>1.313725e+06</td>\n",
       "      <td>13.000000</td>\n",
       "      <td>14.000000</td>\n",
       "    </tr>\n",
       "    <tr>\n",
       "      <th>75%</th>\n",
       "      <td>1.484088e+06</td>\n",
       "      <td>27.000000</td>\n",
       "      <td>18.000000</td>\n",
       "    </tr>\n",
       "    <tr>\n",
       "      <th>max</th>\n",
       "      <td>1.654483e+06</td>\n",
       "      <td>2065.000000</td>\n",
       "      <td>23.000000</td>\n",
       "    </tr>\n",
       "  </tbody>\n",
       "</table>\n",
       "</div>"
      ],
      "text/plain": [
       "            user id      total ads  most ads hour\n",
       "count  5.881010e+05  588101.000000  588101.000000\n",
       "mean   1.310692e+06      24.820876      14.469061\n",
       "std    2.022260e+05      43.715181       4.834634\n",
       "min    9.000000e+05       1.000000       0.000000\n",
       "25%    1.143190e+06       4.000000      11.000000\n",
       "50%    1.313725e+06      13.000000      14.000000\n",
       "75%    1.484088e+06      27.000000      18.000000\n",
       "max    1.654483e+06    2065.000000      23.000000"
      ]
     },
     "execution_count": 8,
     "metadata": {},
     "output_type": "execute_result"
    }
   ],
   "source": [
    "marketing.describe()"
   ]
  },
  {
   "cell_type": "markdown",
   "id": "ed93bb15-04ac-4c32-8fec-4f6eb1b63bd3",
   "metadata": {},
   "source": [
    "## Removal of outliers"
   ]
  },
  {
   "cell_type": "code",
   "execution_count": 9,
   "id": "d97bc7e2-d83a-408a-a77e-b99f6a159935",
   "metadata": {},
   "outputs": [
    {
     "data": {
      "image/png": "[encoded data removed]",
      "text/plain": [
       "<Figure size 2000x1500 with 1 Axes>"
      ]
     },
     "metadata": {},
     "output_type": "display_data"
    }
   ],
   "source": [
    "\n",
    "columns_to_plot = ['total ads']\n",
    "\n",
    "df_selected = marketing[columns_to_plot]\n",
    "\n",
    "num_cols = len(columns_to_plot)\n",
    "rows = 4\n",
    "cols = 3\n",
    "\n",
    "fig, axes = plt.subplots(rows, cols, figsize=(20, 15), constrained_layout=True)\n",
    "\n",
    "for i, column in enumerate(columns_to_plot):\n",
    "    row = i // cols\n",
    "    col = i % cols\n",
    "    sns.boxplot(x=df_selected[column], ax=axes[row, col])\n",
    "    axes[row, col].set_title(f'Box Plot of {column}')\n",
    "    axes[row, col].set_xlabel(column)\n",
    "    axes[row, col].set_ylabel('Value')\n",
    "\n",
    "for i in range(num_cols, rows * cols):\n",
    "    fig.delaxes(axes.flatten()[i])\n",
    "\n",
    "plt.show()\n"
   ]
  },
  {
   "cell_type": "code",
   "execution_count": 10,
   "id": "a4a4cb82-1aeb-4b1f-9967-0b6bac072ff3",
   "metadata": {},
   "outputs": [
    {
     "data": {
      "image/png": "[encoded data removed]",
      "text/plain": [
       "<Figure size 2000x1500 with 1 Axes>"
      ]
     },
     "metadata": {},
     "output_type": "display_data"
    }
   ],
   "source": [
    "columns_to_plot = ['total ads']\n",
    "\n",
    "# Aykırı değerleri çıkarma fonksiyonu\n",
    "def remove_outliers(df, column):\n",
    "    Q1 = df[column].quantile(0.25)\n",
    "    Q3 = df[column].quantile(0.75)\n",
    "    IQR = Q3 - Q1\n",
    "    lower_bound = Q1 - 1.5 * IQR\n",
    "    upper_bound = Q3 + 1.5 * IQR\n",
    "    return df[(df[column] >= lower_bound) & (df[column] <= upper_bound)]\n",
    "\n",
    "# Aykırı değerleri çıkarma işlemi\n",
    "for column in columns_to_plot:\n",
    "    marketing = remove_outliers(marketing, column)\n",
    "\n",
    "# Aykırı değerler çıkarıldıktan sonra boxplot çizdirme\n",
    "marketing_selected = marketing[columns_to_plot]\n",
    "\n",
    "num_cols = len(columns_to_plot)\n",
    "rows = 4\n",
    "cols = 3\n",
    "\n",
    "fig, axes = plt.subplots(rows, cols, figsize=(20, 15), constrained_layout=True)\n",
    "\n",
    "for i, column in enumerate(columns_to_plot):\n",
    "    row = i // cols\n",
    "    col = i % cols\n",
    "    sns.boxplot(x=marketing_selected[column], ax=axes[row, col])\n",
    "    axes[row, col].set_title(f'Box Plot of {column}')\n",
    "    axes[row, col].set_xlabel(column)\n",
    "    axes[row, col].set_ylabel('Value')\n",
    "\n",
    "# Boş grafik alanlarını temizleme\n",
    "for i in range(num_cols, rows * cols):\n",
    "    fig.delaxes(axes.flatten()[i])\n",
    "\n",
    "plt.show()\n"
   ]
  },
  {
   "cell_type": "markdown",
   "id": "81c661db-3630-423e-9149-076a3546cec7",
   "metadata": {},
   "source": [
    "It can be seen that a large portion of the data has been removed due to outliers."
   ]
  },
  {
   "cell_type": "code",
   "execution_count": null,
   "id": "51427f8e-30cb-4c85-84da-e0d57f22e22f",
   "metadata": {},
   "outputs": [],
   "source": []
  },
  {
   "cell_type": "code",
   "execution_count": 11,
   "id": "0d46b856-91b9-412a-ab62-9fcb05945d2f",
   "metadata": {},
   "outputs": [
    {
     "data": {
      "text/plain": [
       "(536044, 6)"
      ]
     },
     "execution_count": 11,
     "metadata": {},
     "output_type": "execute_result"
    }
   ],
   "source": [
    "marketing.shape"
   ]
  },
  {
   "cell_type": "code",
   "execution_count": 12,
   "id": "d5abf0e0-7171-4e2a-8a00-88517299ad89",
   "metadata": {},
   "outputs": [
    {
     "data": {
      "text/plain": [
       "588101"
      ]
     },
     "execution_count": 12,
     "metadata": {},
     "output_type": "execute_result"
    }
   ],
   "source": [
    "588101"
   ]
  },
  {
   "cell_type": "markdown",
   "id": "b479799d-b8b5-4a05-91b5-db61238825f5",
   "metadata": {},
   "source": [
    "As a result of removing outliers from the raw data of 588,101, a total of 536,044 records remain, and 52,057 outlier records have been deleted."
   ]
  },
  {
   "cell_type": "code",
   "execution_count": 13,
   "id": "1313d2c2-4a6b-459b-be9e-2b012223fa9c",
   "metadata": {},
   "outputs": [
    {
     "name": "stdout",
     "output_type": "stream",
     "text": [
      "Ad group size: 514716\n",
      "PSA group size: 21328\n"
     ]
    }
   ],
   "source": [
    "ad_group_size = len(marketing[marketing['test group'] == 'ad'])\n",
    "psa_group_size = len(marketing[marketing['test group'] == 'psa'])\n",
    "\n",
    "print(f\"Ad group size: {ad_group_size}\")\n",
    "print(f\"PSA group size: {psa_group_size}\")\n"
   ]
  },
  {
   "cell_type": "markdown",
   "id": "54721013-0843-4899-aa8e-9e913367528a",
   "metadata": {},
   "source": [
    "## Data normalization"
   ]
  },
  {
   "cell_type": "code",
   "execution_count": 14,
   "id": "1f8b08dc-2501-4171-8582-c97671014f64",
   "metadata": {},
   "outputs": [
    {
     "data": {
      "image/png": "[encoded data removed]",
      "text/plain": [
       "<Figure size 640x480 with 1 Axes>"
      ]
     },
     "metadata": {},
     "output_type": "display_data"
    }
   ],
   "source": [
    "sp_transformed = sns.distplot(marketing[columns_to_plot])  "
   ]
  },
  {
   "cell_type": "code",
   "execution_count": 15,
   "id": "1fa27813-25c3-4c2c-a03c-b69ec4e662ad",
   "metadata": {},
   "outputs": [
    {
     "name": "stdout",
     "output_type": "stream",
     "text": [
      "total ads: Skewness = 1.21, Type = Highly Skewed (> 1.0): Data is highly asymmetrical with a long right tail.\n"
     ]
    }
   ],
   "source": [
    "marketing[columns_to_plot]\n",
    "# Skewness identification\n",
    "columns_to_plot = ['total ads']\n",
    "\n",
    "for column in columns_to_plot:\n",
    "    skewness = marketing[column].skew()\n",
    "    \n",
    "    if skewness < -1.0:\n",
    "        skewness_type = 'Highly Skewed (< -1.0): Data is highly asymmetrical with a long left tail.'\n",
    "    elif skewness < -0.5:\n",
    "        skewness_type = 'Moderate Negative Skew (-0.5 to -1.0): Data has a noticeable left tail, but not extreme.'\n",
    "    elif skewness < 0.5:\n",
    "        skewness_type = 'Fairly Symmetrical (-0.5 to 0.5): Data distribution is close to symmetrical, but might have slight deviations.'\n",
    "    elif skewness < 1.0:\n",
    "        skewness_type = 'Moderate Positive Skew (0.5 to 1.0): Data has a noticeable right tail, but not extreme.'\n",
    "    else:\n",
    "        skewness_type = 'Highly Skewed (> 1.0): Data is highly asymmetrical with a long right tail.'\n",
    "    \n",
    "    print(f\"{column}: Skewness = {skewness:.2f}, Type = {skewness_type}\")\n"
   ]
  },
  {
   "cell_type": "markdown",
   "id": "1bb867f4-d2a3-4281-9403-579f02ca9105",
   "metadata": {},
   "source": [
    "As a result of the initial analysis, it was observed that the data is quite skewed and not suitable for statistical tests that assume a normal distribution. To make the data conform to a normal distribution, the square root transformation technique has been used below."
   ]
  },
  {
   "cell_type": "code",
   "execution_count": null,
   "id": "2404f81a-e86a-406d-b477-6fd7506c34b5",
   "metadata": {},
   "outputs": [],
   "source": []
  },
  {
   "cell_type": "code",
   "execution_count": 16,
   "id": "8f1eed2e-f8b6-4b13-a9a5-d348ac9a852b",
   "metadata": {},
   "outputs": [
    {
     "name": "stdout",
     "output_type": "stream",
     "text": [
      "total ads: Skewness = 0.43, Type = Fairly Symmetrical (-0.5 to 0.5): Data distribution is close to symmetrical, but might have slight deviations.\n"
     ]
    }
   ],
   "source": [
    "#Trying to sqrt transformation \n",
    "\n",
    "sqrt_transformed = np.sqrt(marketing[\"total ads\"].replace(0, np.nan))\n",
    "\n",
    "\n",
    "skewness = sqrt_transformed.skew()\n",
    "    \n",
    "if skewness < -1.0:\n",
    "    skewness_type = 'Highly Skewed (< -1.0): Data is highly asymmetrical with a long left tail.'\n",
    "elif skewness < -0.5:\n",
    "    skewness_type = 'Moderate Negative Skew (-0.5 to -1.0): Data has a noticeable left tail, but not extreme.'\n",
    "elif skewness < 0.5:\n",
    "    skewness_type = 'Fairly Symmetrical (-0.5 to 0.5): Data distribution is close to symmetrical, but might have slight deviations.'\n",
    "elif skewness < 1.0:\n",
    "    skewness_type = 'Moderate Positive Skew (0.5 to 1.0): Data has a noticeable right tail, but not extreme.'\n",
    "else:\n",
    "    skewness_type = 'Highly Skewed (> 1.0): Data is highly asymmetrical with a long right tail.'\n",
    "    \n",
    "print(f\"{column}: Skewness = {skewness:.2f}, Type = {skewness_type}\")\n"
   ]
  },
  {
   "cell_type": "markdown",
   "id": "84077ff4-323d-4a87-8bd1-36be898f949f",
   "metadata": {},
   "source": [
    "As seen, the data normalization process has achieved a nearly symmetric dataset."
   ]
  },
  {
   "cell_type": "code",
   "execution_count": 17,
   "id": "1c119b54-5bbf-4f93-878c-6f7aa6f90225",
   "metadata": {},
   "outputs": [
    {
     "data": {
      "image/png": "[encoded data removed]",
      "text/plain": [
       "<Figure size 640x480 with 1 Axes>"
      ]
     },
     "metadata": {},
     "output_type": "display_data"
    }
   ],
   "source": [
    "sp_transformed = sns.distplot(sqrt_transformed)  "
   ]
  },
  {
   "cell_type": "code",
   "execution_count": 18,
   "id": "15ebb04e-f170-4fa9-8afe-51079eba4936",
   "metadata": {},
   "outputs": [],
   "source": [
    "marketing[\"total ads\"] = sqrt_transformed"
   ]
  },
  {
   "cell_type": "code",
   "execution_count": 19,
   "id": "11dc0b63-071d-40ad-bbd9-50bfebafc1bd",
   "metadata": {},
   "outputs": [
    {
     "data": {
      "text/html": [
       "<div>\n",
       "<style scoped>\n",
       "    .dataframe tbody tr th:only-of-type {\n",
       "        vertical-align: middle;\n",
       "    }\n",
       "\n",
       "    .dataframe tbody tr th {\n",
       "        vertical-align: top;\n",
       "    }\n",
       "\n",
       "    .dataframe thead th {\n",
       "        text-align: right;\n",
       "    }\n",
       "</style>\n",
       "<table border=\"1\" class=\"dataframe\">\n",
       "  <thead>\n",
       "    <tr style=\"text-align: right;\">\n",
       "      <th></th>\n",
       "      <th>user id</th>\n",
       "      <th>test group</th>\n",
       "      <th>converted</th>\n",
       "      <th>total ads</th>\n",
       "      <th>most ads day</th>\n",
       "      <th>most ads hour</th>\n",
       "    </tr>\n",
       "  </thead>\n",
       "  <tbody>\n",
       "    <tr>\n",
       "      <th>2</th>\n",
       "      <td>1144181</td>\n",
       "      <td>ad</td>\n",
       "      <td>False</td>\n",
       "      <td>4.582576</td>\n",
       "      <td>Tuesday</td>\n",
       "      <td>18</td>\n",
       "    </tr>\n",
       "    <tr>\n",
       "      <th>7</th>\n",
       "      <td>1496843</td>\n",
       "      <td>ad</td>\n",
       "      <td>False</td>\n",
       "      <td>4.123106</td>\n",
       "      <td>Sunday</td>\n",
       "      <td>18</td>\n",
       "    </tr>\n",
       "    <tr>\n",
       "      <th>8</th>\n",
       "      <td>1448851</td>\n",
       "      <td>ad</td>\n",
       "      <td>False</td>\n",
       "      <td>4.582576</td>\n",
       "      <td>Tuesday</td>\n",
       "      <td>19</td>\n",
       "    </tr>\n",
       "    <tr>\n",
       "      <th>11</th>\n",
       "      <td>1637531</td>\n",
       "      <td>ad</td>\n",
       "      <td>False</td>\n",
       "      <td>6.855655</td>\n",
       "      <td>Wednesday</td>\n",
       "      <td>13</td>\n",
       "    </tr>\n",
       "    <tr>\n",
       "      <th>12</th>\n",
       "      <td>1081965</td>\n",
       "      <td>ad</td>\n",
       "      <td>False</td>\n",
       "      <td>7.810250</td>\n",
       "      <td>Tuesday</td>\n",
       "      <td>20</td>\n",
       "    </tr>\n",
       "    <tr>\n",
       "      <th>...</th>\n",
       "      <td>...</td>\n",
       "      <td>...</td>\n",
       "      <td>...</td>\n",
       "      <td>...</td>\n",
       "      <td>...</td>\n",
       "      <td>...</td>\n",
       "    </tr>\n",
       "    <tr>\n",
       "      <th>588096</th>\n",
       "      <td>1278437</td>\n",
       "      <td>ad</td>\n",
       "      <td>False</td>\n",
       "      <td>1.000000</td>\n",
       "      <td>Tuesday</td>\n",
       "      <td>23</td>\n",
       "    </tr>\n",
       "    <tr>\n",
       "      <th>588097</th>\n",
       "      <td>1327975</td>\n",
       "      <td>ad</td>\n",
       "      <td>False</td>\n",
       "      <td>1.000000</td>\n",
       "      <td>Tuesday</td>\n",
       "      <td>23</td>\n",
       "    </tr>\n",
       "    <tr>\n",
       "      <th>588098</th>\n",
       "      <td>1038442</td>\n",
       "      <td>ad</td>\n",
       "      <td>False</td>\n",
       "      <td>1.732051</td>\n",
       "      <td>Tuesday</td>\n",
       "      <td>23</td>\n",
       "    </tr>\n",
       "    <tr>\n",
       "      <th>588099</th>\n",
       "      <td>1496395</td>\n",
       "      <td>ad</td>\n",
       "      <td>False</td>\n",
       "      <td>1.000000</td>\n",
       "      <td>Tuesday</td>\n",
       "      <td>23</td>\n",
       "    </tr>\n",
       "    <tr>\n",
       "      <th>588100</th>\n",
       "      <td>1237779</td>\n",
       "      <td>ad</td>\n",
       "      <td>False</td>\n",
       "      <td>1.000000</td>\n",
       "      <td>Tuesday</td>\n",
       "      <td>23</td>\n",
       "    </tr>\n",
       "  </tbody>\n",
       "</table>\n",
       "<p>536044 rows × 6 columns</p>\n",
       "</div>"
      ],
      "text/plain": [
       "        user id test group  converted  total ads most ads day  most ads hour\n",
       "2       1144181         ad      False   4.582576      Tuesday             18\n",
       "7       1496843         ad      False   4.123106       Sunday             18\n",
       "8       1448851         ad      False   4.582576      Tuesday             19\n",
       "11      1637531         ad      False   6.855655    Wednesday             13\n",
       "12      1081965         ad      False   7.810250      Tuesday             20\n",
       "...         ...        ...        ...        ...          ...            ...\n",
       "588096  1278437         ad      False   1.000000      Tuesday             23\n",
       "588097  1327975         ad      False   1.000000      Tuesday             23\n",
       "588098  1038442         ad      False   1.732051      Tuesday             23\n",
       "588099  1496395         ad      False   1.000000      Tuesday             23\n",
       "588100  1237779         ad      False   1.000000      Tuesday             23\n",
       "\n",
       "[536044 rows x 6 columns]"
      ]
     },
     "execution_count": 19,
     "metadata": {},
     "output_type": "execute_result"
    }
   ],
   "source": [
    "marketing"
   ]
  },
  {
   "cell_type": "code",
   "execution_count": null,
   "id": "15ca3fe7-0267-4c67-8cbb-78e17e45ee6d",
   "metadata": {},
   "outputs": [],
   "source": [
    "        "
   ]
  },
  {
   "cell_type": "code",
   "execution_count": null,
   "id": "edaf80d0-f3b8-4010-9d08-ac76e79fb896",
   "metadata": {},
   "outputs": [],
   "source": []
  },
  {
   "cell_type": "code",
   "execution_count": null,
   "id": "f9344585-37ff-4f9c-9c2b-0491e28f406f",
   "metadata": {},
   "outputs": [],
   "source": []
  },
  {
   "cell_type": "code",
   "execution_count": 20,
   "id": "b32c9cec-176d-4903-b4c5-988145e84681",
   "metadata": {},
   "outputs": [],
   "source": [
    "# check if some users appear multiple times\n",
    "user_sess = marketing['user id'].value_counts()\n"
   ]
  },
  {
   "cell_type": "code",
   "execution_count": 21,
   "id": "cca3fb70-abfe-48bb-b737-a7d7fc862190",
   "metadata": {},
   "outputs": [
    {
     "data": {
      "text/plain": [
       "user id\n",
       "1237779    1\n",
       "1144181    1\n",
       "1496843    1\n",
       "1448851    1\n",
       "1637531    1\n",
       "          ..\n",
       "1580543    1\n",
       "1011246    1\n",
       "905704     1\n",
       "1067720    1\n",
       "1459497    1\n",
       "Name: count, Length: 536044, dtype: int64"
      ]
     },
     "execution_count": 21,
     "metadata": {},
     "output_type": "execute_result"
    }
   ],
   "source": [
    "user_sess"
   ]
  },
  {
   "cell_type": "code",
   "execution_count": 23,
   "id": "c3f5e309-51d0-4b72-aa62-760cebbe429f",
   "metadata": {},
   "outputs": [
    {
     "name": "stdout",
     "output_type": "stream",
     "text": [
      "Series([], Name: count, dtype: int64)\n"
     ]
    }
   ],
   "source": [
    "filtered_users = user_sess[user_sess != 1]\n",
    "print(filtered_users)\n"
   ]
  },
  {
   "cell_type": "code",
   "execution_count": 24,
   "id": "fbcee403-0427-43c4-bf86-3e1aab1f43b8",
   "metadata": {},
   "outputs": [
    {
     "data": {
      "text/html": [
       "<div>\n",
       "<style scoped>\n",
       "    .dataframe tbody tr th:only-of-type {\n",
       "        vertical-align: middle;\n",
       "    }\n",
       "\n",
       "    .dataframe tbody tr th {\n",
       "        vertical-align: top;\n",
       "    }\n",
       "\n",
       "    .dataframe thead th {\n",
       "        text-align: right;\n",
       "    }\n",
       "</style>\n",
       "<table border=\"1\" class=\"dataframe\">\n",
       "  <thead>\n",
       "    <tr style=\"text-align: right;\">\n",
       "      <th></th>\n",
       "      <th>user id</th>\n",
       "      <th>test group</th>\n",
       "      <th>converted</th>\n",
       "      <th>total ads</th>\n",
       "      <th>most ads day</th>\n",
       "      <th>most ads hour</th>\n",
       "    </tr>\n",
       "  </thead>\n",
       "  <tbody>\n",
       "    <tr>\n",
       "      <th>2</th>\n",
       "      <td>1144181</td>\n",
       "      <td>ad</td>\n",
       "      <td>False</td>\n",
       "      <td>4.582576</td>\n",
       "      <td>Tuesday</td>\n",
       "      <td>18</td>\n",
       "    </tr>\n",
       "    <tr>\n",
       "      <th>7</th>\n",
       "      <td>1496843</td>\n",
       "      <td>ad</td>\n",
       "      <td>False</td>\n",
       "      <td>4.123106</td>\n",
       "      <td>Sunday</td>\n",
       "      <td>18</td>\n",
       "    </tr>\n",
       "    <tr>\n",
       "      <th>8</th>\n",
       "      <td>1448851</td>\n",
       "      <td>ad</td>\n",
       "      <td>False</td>\n",
       "      <td>4.582576</td>\n",
       "      <td>Tuesday</td>\n",
       "      <td>19</td>\n",
       "    </tr>\n",
       "    <tr>\n",
       "      <th>11</th>\n",
       "      <td>1637531</td>\n",
       "      <td>ad</td>\n",
       "      <td>False</td>\n",
       "      <td>6.855655</td>\n",
       "      <td>Wednesday</td>\n",
       "      <td>13</td>\n",
       "    </tr>\n",
       "    <tr>\n",
       "      <th>12</th>\n",
       "      <td>1081965</td>\n",
       "      <td>ad</td>\n",
       "      <td>False</td>\n",
       "      <td>7.810250</td>\n",
       "      <td>Tuesday</td>\n",
       "      <td>20</td>\n",
       "    </tr>\n",
       "    <tr>\n",
       "      <th>...</th>\n",
       "      <td>...</td>\n",
       "      <td>...</td>\n",
       "      <td>...</td>\n",
       "      <td>...</td>\n",
       "      <td>...</td>\n",
       "      <td>...</td>\n",
       "    </tr>\n",
       "    <tr>\n",
       "      <th>588096</th>\n",
       "      <td>1278437</td>\n",
       "      <td>ad</td>\n",
       "      <td>False</td>\n",
       "      <td>1.000000</td>\n",
       "      <td>Tuesday</td>\n",
       "      <td>23</td>\n",
       "    </tr>\n",
       "    <tr>\n",
       "      <th>588097</th>\n",
       "      <td>1327975</td>\n",
       "      <td>ad</td>\n",
       "      <td>False</td>\n",
       "      <td>1.000000</td>\n",
       "      <td>Tuesday</td>\n",
       "      <td>23</td>\n",
       "    </tr>\n",
       "    <tr>\n",
       "      <th>588098</th>\n",
       "      <td>1038442</td>\n",
       "      <td>ad</td>\n",
       "      <td>False</td>\n",
       "      <td>1.732051</td>\n",
       "      <td>Tuesday</td>\n",
       "      <td>23</td>\n",
       "    </tr>\n",
       "    <tr>\n",
       "      <th>588099</th>\n",
       "      <td>1496395</td>\n",
       "      <td>ad</td>\n",
       "      <td>False</td>\n",
       "      <td>1.000000</td>\n",
       "      <td>Tuesday</td>\n",
       "      <td>23</td>\n",
       "    </tr>\n",
       "    <tr>\n",
       "      <th>588100</th>\n",
       "      <td>1237779</td>\n",
       "      <td>ad</td>\n",
       "      <td>False</td>\n",
       "      <td>1.000000</td>\n",
       "      <td>Tuesday</td>\n",
       "      <td>23</td>\n",
       "    </tr>\n",
       "  </tbody>\n",
       "</table>\n",
       "<p>536044 rows × 6 columns</p>\n",
       "</div>"
      ],
      "text/plain": [
       "        user id test group  converted  total ads most ads day  most ads hour\n",
       "2       1144181         ad      False   4.582576      Tuesday             18\n",
       "7       1496843         ad      False   4.123106       Sunday             18\n",
       "8       1448851         ad      False   4.582576      Tuesday             19\n",
       "11      1637531         ad      False   6.855655    Wednesday             13\n",
       "12      1081965         ad      False   7.810250      Tuesday             20\n",
       "...         ...        ...        ...        ...          ...            ...\n",
       "588096  1278437         ad      False   1.000000      Tuesday             23\n",
       "588097  1327975         ad      False   1.000000      Tuesday             23\n",
       "588098  1038442         ad      False   1.732051      Tuesday             23\n",
       "588099  1496395         ad      False   1.000000      Tuesday             23\n",
       "588100  1237779         ad      False   1.000000      Tuesday             23\n",
       "\n",
       "[536044 rows x 6 columns]"
      ]
     },
     "execution_count": 24,
     "metadata": {},
     "output_type": "execute_result"
    }
   ],
   "source": [
    "marketing"
   ]
  },
  {
   "cell_type": "code",
   "execution_count": 25,
   "id": "4f66825f-4c0d-49d4-987a-6cb658748e83",
   "metadata": {},
   "outputs": [
    {
     "name": "stdout",
     "output_type": "stream",
     "text": [
      "Ad group size: 514716\n",
      "PSA group size: 21328\n"
     ]
    }
   ],
   "source": [
    "ad_group_size = len(marketing[marketing['test group'] == 'ad'])\n",
    "psa_group_size = len(marketing[marketing['test group'] == 'psa'])\n",
    "\n",
    "print(f\"Ad group size: {ad_group_size}\")\n",
    "print(f\"PSA group size: {psa_group_size}\")\n"
   ]
  },
  {
   "cell_type": "code",
   "execution_count": 26,
   "id": "8994cced-52f7-47da-a738-d80d257ee557",
   "metadata": {},
   "outputs": [
    {
     "data": {
      "text/plain": [
       "681"
      ]
     },
     "execution_count": 26,
     "metadata": {},
     "output_type": "execute_result"
    }
   ],
   "source": [
    "effect = sms.proportion_effectsize(0.1, 0.15)\n",
    "\n",
    "sample_size = sms.NormalIndPower().solve_power(\n",
    "    effect,\n",
    "    power = 0.8,\n",
    "    alpha = 0.05,\n",
    "    ratio = 1\n",
    ")\n",
    "\n",
    "sample_size = ceil(sample_size)\n",
    "\n",
    "sample_size"
   ]
  },
  {
   "cell_type": "code",
   "execution_count": 27,
   "id": "1fa1df26-78b5-4580-9841-5491f0c7960b",
   "metadata": {},
   "outputs": [],
   "source": [
    "# The treatment and control samples\n",
    "trt = marketing[marketing['test group'] == 'ad'].sample(n=sample_size, random_state=1)\n",
    "\n",
    "con = marketing[marketing['test group'] == 'psa'].sample(n=sample_size, random_state=1)\n",
    "\n",
    "# Combining into one dataframe and resetting the indices\n",
    "marketing = pd.concat([con, trt], axis=0)\n",
    "marketing.reset_index(drop=True, inplace=True)\n",
    "\n"
   ]
  },
  {
   "cell_type": "code",
   "execution_count": 28,
   "id": "cc6592f3-4874-4ea6-96e9-aa0f6367fb7d",
   "metadata": {},
   "outputs": [
    {
     "data": {
      "text/html": [
       "<div>\n",
       "<style scoped>\n",
       "    .dataframe tbody tr th:only-of-type {\n",
       "        vertical-align: middle;\n",
       "    }\n",
       "\n",
       "    .dataframe tbody tr th {\n",
       "        vertical-align: top;\n",
       "    }\n",
       "\n",
       "    .dataframe thead th {\n",
       "        text-align: right;\n",
       "    }\n",
       "</style>\n",
       "<table border=\"1\" class=\"dataframe\">\n",
       "  <thead>\n",
       "    <tr style=\"text-align: right;\">\n",
       "      <th></th>\n",
       "      <th>user id</th>\n",
       "      <th>test group</th>\n",
       "      <th>converted</th>\n",
       "      <th>total ads</th>\n",
       "      <th>most ads day</th>\n",
       "      <th>most ads hour</th>\n",
       "    </tr>\n",
       "  </thead>\n",
       "  <tbody>\n",
       "    <tr>\n",
       "      <th>0</th>\n",
       "      <td>914789</td>\n",
       "      <td>psa</td>\n",
       "      <td>False</td>\n",
       "      <td>2.828427</td>\n",
       "      <td>Sunday</td>\n",
       "      <td>10</td>\n",
       "    </tr>\n",
       "    <tr>\n",
       "      <th>1</th>\n",
       "      <td>920984</td>\n",
       "      <td>psa</td>\n",
       "      <td>False</td>\n",
       "      <td>2.449490</td>\n",
       "      <td>Sunday</td>\n",
       "      <td>15</td>\n",
       "    </tr>\n",
       "    <tr>\n",
       "      <th>2</th>\n",
       "      <td>916207</td>\n",
       "      <td>psa</td>\n",
       "      <td>False</td>\n",
       "      <td>6.782330</td>\n",
       "      <td>Saturday</td>\n",
       "      <td>20</td>\n",
       "    </tr>\n",
       "    <tr>\n",
       "      <th>3</th>\n",
       "      <td>906506</td>\n",
       "      <td>psa</td>\n",
       "      <td>False</td>\n",
       "      <td>1.732051</td>\n",
       "      <td>Friday</td>\n",
       "      <td>21</td>\n",
       "    </tr>\n",
       "    <tr>\n",
       "      <th>4</th>\n",
       "      <td>903325</td>\n",
       "      <td>psa</td>\n",
       "      <td>False</td>\n",
       "      <td>1.000000</td>\n",
       "      <td>Friday</td>\n",
       "      <td>14</td>\n",
       "    </tr>\n",
       "  </tbody>\n",
       "</table>\n",
       "</div>"
      ],
      "text/plain": [
       "   user id test group  converted  total ads most ads day  most ads hour\n",
       "0   914789        psa      False   2.828427       Sunday             10\n",
       "1   920984        psa      False   2.449490       Sunday             15\n",
       "2   916207        psa      False   6.782330     Saturday             20\n",
       "3   906506        psa      False   1.732051       Friday             21\n",
       "4   903325        psa      False   1.000000       Friday             14"
      ]
     },
     "execution_count": 28,
     "metadata": {},
     "output_type": "execute_result"
    }
   ],
   "source": [
    "marketing.head(5)\n"
   ]
  },
  {
   "cell_type": "code",
   "execution_count": 29,
   "id": "3644b72b-61d7-4224-ba06-78452863d63a",
   "metadata": {},
   "outputs": [
    {
     "data": {
      "text/html": [
       "<div>\n",
       "<style scoped>\n",
       "    .dataframe tbody tr th:only-of-type {\n",
       "        vertical-align: middle;\n",
       "    }\n",
       "\n",
       "    .dataframe tbody tr th {\n",
       "        vertical-align: top;\n",
       "    }\n",
       "\n",
       "    .dataframe thead th {\n",
       "        text-align: right;\n",
       "    }\n",
       "</style>\n",
       "<table border=\"1\" class=\"dataframe\">\n",
       "  <thead>\n",
       "    <tr style=\"text-align: right;\">\n",
       "      <th></th>\n",
       "      <th>user id</th>\n",
       "      <th>test group</th>\n",
       "      <th>converted</th>\n",
       "      <th>total ads</th>\n",
       "      <th>most ads day</th>\n",
       "      <th>most ads hour</th>\n",
       "    </tr>\n",
       "  </thead>\n",
       "  <tbody>\n",
       "    <tr>\n",
       "      <th>1357</th>\n",
       "      <td>1108858</td>\n",
       "      <td>ad</td>\n",
       "      <td>True</td>\n",
       "      <td>6.164414</td>\n",
       "      <td>Wednesday</td>\n",
       "      <td>12</td>\n",
       "    </tr>\n",
       "    <tr>\n",
       "      <th>1358</th>\n",
       "      <td>1400958</td>\n",
       "      <td>ad</td>\n",
       "      <td>False</td>\n",
       "      <td>4.795832</td>\n",
       "      <td>Tuesday</td>\n",
       "      <td>8</td>\n",
       "    </tr>\n",
       "    <tr>\n",
       "      <th>1359</th>\n",
       "      <td>1243710</td>\n",
       "      <td>ad</td>\n",
       "      <td>False</td>\n",
       "      <td>3.316625</td>\n",
       "      <td>Tuesday</td>\n",
       "      <td>15</td>\n",
       "    </tr>\n",
       "    <tr>\n",
       "      <th>1360</th>\n",
       "      <td>1619131</td>\n",
       "      <td>ad</td>\n",
       "      <td>False</td>\n",
       "      <td>1.414214</td>\n",
       "      <td>Tuesday</td>\n",
       "      <td>10</td>\n",
       "    </tr>\n",
       "    <tr>\n",
       "      <th>1361</th>\n",
       "      <td>1340399</td>\n",
       "      <td>ad</td>\n",
       "      <td>False</td>\n",
       "      <td>2.000000</td>\n",
       "      <td>Tuesday</td>\n",
       "      <td>22</td>\n",
       "    </tr>\n",
       "  </tbody>\n",
       "</table>\n",
       "</div>"
      ],
      "text/plain": [
       "      user id test group  converted  total ads most ads day  most ads hour\n",
       "1357  1108858         ad       True   6.164414    Wednesday             12\n",
       "1358  1400958         ad      False   4.795832      Tuesday              8\n",
       "1359  1243710         ad      False   3.316625      Tuesday             15\n",
       "1360  1619131         ad      False   1.414214      Tuesday             10\n",
       "1361  1340399         ad      False   2.000000      Tuesday             22"
      ]
     },
     "execution_count": 29,
     "metadata": {},
     "output_type": "execute_result"
    }
   ],
   "source": [
    "marketing.tail(5)\n"
   ]
  },
  {
   "cell_type": "code",
   "execution_count": 30,
   "id": "b0b44a9f-6102-4de8-a144-703294d12f07",
   "metadata": {},
   "outputs": [
    {
     "data": {
      "text/plain": [
       "np.float64(0.03759017968909186)"
      ]
     },
     "execution_count": 30,
     "metadata": {},
     "output_type": "execute_result"
    }
   ],
   "source": [
    "converted_con = marketing[marketing['test group'] == 'ad']['converted']\n",
    "\n",
    "converted_trt = marketing[marketing['test group'] == 'psa']['converted']\n",
    "\n",
    "n_control = converted_con.count()\n",
    "\n",
    "n_treatment = converted_trt.count()\n",
    "\n",
    "num_converted = [converted_con.sum(), converted_trt.sum()]\n",
    "\n",
    "nobs = [n_control, n_treatment]\n",
    "\n",
    "# p-value?\n",
    "z_stat, pval = sms.proportions_ztest(num_converted, nobs=nobs)\n",
    "\n",
    "pval\n"
   ]
  },
  {
   "cell_type": "code",
   "execution_count": null,
   "id": "1989efe1-ec40-456a-a8c6-9a5314aa048d",
   "metadata": {},
   "outputs": [],
   "source": []
  },
  {
   "cell_type": "code",
   "execution_count": null,
   "id": "4aa1e4ae-67b0-4b5b-9b1a-76be4b415a99",
   "metadata": {},
   "outputs": [],
   "source": []
  },
  {
   "cell_type": "code",
   "execution_count": null,
   "id": "f3588b46-1e9f-42a6-98b7-8ab910d6ae13",
   "metadata": {},
   "outputs": [],
   "source": []
  },
  {
   "cell_type": "code",
   "execution_count": null,
   "id": "fdebba42-c4c6-48e6-94ef-d5230e1a2a14",
   "metadata": {},
   "outputs": [],
   "source": []
  },
  {
   "cell_type": "code",
   "execution_count": null,
   "id": "859d4639-12be-4964-a19c-2e38b1ff3b9c",
   "metadata": {},
   "outputs": [],
   "source": []
  },
  {
   "cell_type": "markdown",
   "id": "68cb2b97-da38-4246-962b-49e62ce8f27d",
   "metadata": {},
   "source": [
    "### Advertisement values between 20 PM and 23 PM (prime time)"
   ]
  },
  {
   "cell_type": "code",
   "execution_count": 31,
   "id": "05999a30-57c2-4ecb-98ba-f89bee7c465b",
   "metadata": {},
   "outputs": [
    {
     "name": "stdout",
     "output_type": "stream",
     "text": [
      "Filtre öncesi veri sayısı: 588101\n",
      "Filtre sonrası veri sayısı: 105497\n",
      "Ad group size: 92786\n",
      "PSA group size: 3360\n",
      "total ads: Skewness = 0.45, Type = Fairly Symmetrical (-0.5 to 0.5): Data distribution is close to symmetrical, but might have slight deviations.\n",
      "Ad group size: 92786\n",
      "PSA group size: 3360\n"
     ]
    },
    {
     "data": {
      "text/plain": [
       "np.float64(0.004409116774006641)"
      ]
     },
     "execution_count": 31,
     "metadata": {},
     "output_type": "execute_result"
    }
   ],
   "source": [
    "marketing = pd.read_csv('marketing_AB2.csv')\n",
    "marketing = marketing.drop('Unnamed: 0', axis=1)\n",
    "marketing\n",
    "\n",
    "before_filter_count = marketing.shape[0]\n",
    "print(f\"Filtre öncesi veri sayısı: {before_filter_count}\")\n",
    "\n",
    "\n",
    "filtered_marketing = marketing[(marketing['most ads hour'] >= 20) & (marketing['most ads hour'] <= 23)]\n",
    "\n",
    "\n",
    "after_filter_count = filtered_marketing.shape[0]\n",
    "print(f\"Filtre sonrası veri sayısı: {after_filter_count}\")\n",
    "\n",
    "marketing=filtered_marketing\n",
    "\n",
    "\n",
    "columns_to_plot = ['total ads']\n",
    "\n",
    "\n",
    "def remove_outliers(df, column):\n",
    "    Q1 = df[column].quantile(0.25)\n",
    "    Q3 = df[column].quantile(0.75)\n",
    "    IQR = Q3 - Q1\n",
    "    lower_bound = Q1 - 1.5 * IQR\n",
    "    upper_bound = Q3 + 1.5 * IQR\n",
    "    return df[(df[column] >= lower_bound) & (df[column] <= upper_bound)]\n",
    "\n",
    "for column in columns_to_plot:\n",
    "    marketing = remove_outliers(marketing, column)\n",
    "\n",
    "\n",
    "ad_group_size = len(marketing[marketing['test group'] == 'ad'])\n",
    "psa_group_size = len(marketing[marketing['test group'] == 'psa'])\n",
    "\n",
    "print(f\"Ad group size: {ad_group_size}\")\n",
    "print(f\"PSA group size: {psa_group_size}\")\n",
    "\n",
    "\n",
    "\n",
    "sqrt_transformed = np.sqrt(marketing[\"total ads\"].replace(0, np.nan))\n",
    "\n",
    "\n",
    "skewness = sqrt_transformed.skew()\n",
    "    \n",
    "if skewness < -1.0:\n",
    "    skewness_type = 'Highly Skewed (< -1.0): Data is highly asymmetrical with a long left tail.'\n",
    "elif skewness < -0.5:\n",
    "    skewness_type = 'Moderate Negative Skew (-0.5 to -1.0): Data has a noticeable left tail, but not extreme.'\n",
    "elif skewness < 0.5:\n",
    "    skewness_type = 'Fairly Symmetrical (-0.5 to 0.5): Data distribution is close to symmetrical, but might have slight deviations.'\n",
    "elif skewness < 1.0:\n",
    "    skewness_type = 'Moderate Positive Skew (0.5 to 1.0): Data has a noticeable right tail, but not extreme.'\n",
    "else:\n",
    "    skewness_type = 'Highly Skewed (> 1.0): Data is highly asymmetrical with a long right tail.'\n",
    "    \n",
    "print(f\"{column}: Skewness = {skewness:.2f}, Type = {skewness_type}\")\n",
    "\n",
    "\n",
    "marketing[\"total ads\"] = sqrt_transformed\n",
    "\n",
    "ad_group_size = len(marketing[marketing['test group'] == 'ad'])\n",
    "psa_group_size = len(marketing[marketing['test group'] == 'psa'])\n",
    "\n",
    "print(f\"Ad group size: {ad_group_size}\")\n",
    "print(f\"PSA group size: {psa_group_size}\")\n",
    "\n",
    "\n",
    "effect = sms.proportion_effectsize(0.1, 0.15)\n",
    "\n",
    "sample_size = sms.NormalIndPower().solve_power(\n",
    "    effect,\n",
    "    power = 0.8,\n",
    "    alpha = 0.05,\n",
    "    ratio = 1\n",
    ")\n",
    "\n",
    "sample_size = ceil(sample_size)\n",
    "\n",
    "sample_size\n",
    "\n",
    "\n",
    "\n",
    "trt = marketing[marketing['test group'] == 'ad'].sample(n=sample_size, random_state=1)\n",
    "\n",
    "con = marketing[marketing['test group'] == 'psa'].sample(n=sample_size, random_state=1)\n",
    "\n",
    "marketing = pd.concat([con, trt], axis=0)\n",
    "marketing.reset_index(drop=True, inplace=True)\n",
    "\n",
    "\n",
    "converted_con = marketing[marketing['test group'] == 'ad']['converted']\n",
    "\n",
    "converted_trt = marketing[marketing['test group'] == 'psa']['converted']\n",
    "\n",
    "n_control = converted_con.count()\n",
    "\n",
    "n_treatment = converted_trt.count()\n",
    "\n",
    "num_converted = [converted_con.sum(), converted_trt.sum()]\n",
    "\n",
    "nobs = [n_control, n_treatment]\n",
    "\n",
    "z_stat, pval = sms.proportions_ztest(num_converted, nobs=nobs)\n",
    "\n",
    "pval\n"
   ]
  },
  {
   "cell_type": "code",
   "execution_count": null,
   "id": "204fb65c-6eb4-4390-8051-cabcd50bf91e",
   "metadata": {},
   "outputs": [],
   "source": []
  },
  {
   "cell_type": "code",
   "execution_count": null,
   "id": "9596c631-2f48-4ca6-8868-d0e3fd6fe255",
   "metadata": {},
   "outputs": [],
   "source": []
  },
  {
   "cell_type": "markdown",
   "id": "295d9398-7dba-49c9-a7d1-abc87cc70edd",
   "metadata": {},
   "source": [
    "### Advertisement values between 10 AM and 5 PM"
   ]
  },
  {
   "cell_type": "code",
   "execution_count": 32,
   "id": "cfd6d484-df59-4cc5-8fff-47d67e58a363",
   "metadata": {},
   "outputs": [
    {
     "name": "stdout",
     "output_type": "stream",
     "text": [
      "Filtre öncesi veri sayısı: 588101\n",
      "Filtre sonrası veri sayısı: 342988\n",
      "Ad group size: 299186\n",
      "PSA group size: 13117\n",
      "total ads: Skewness = 0.41, Type = Fairly Symmetrical (-0.5 to 0.5): Data distribution is close to symmetrical, but might have slight deviations.\n",
      "Ad group size: 299186\n",
      "PSA group size: 13117\n"
     ]
    },
    {
     "data": {
      "text/plain": [
       "np.float64(0.7951472315657753)"
      ]
     },
     "execution_count": 32,
     "metadata": {},
     "output_type": "execute_result"
    }
   ],
   "source": [
    "marketing = pd.read_csv('marketing_AB2.csv')\n",
    "marketing = marketing.drop('Unnamed: 0', axis=1)\n",
    "marketing\n",
    "\n",
    "before_filter_count = marketing.shape[0]\n",
    "print(f\"Filtre öncesi veri sayısı: {before_filter_count}\")\n",
    "\n",
    "\n",
    "\n",
    "filtered_marketing = marketing[(marketing['most ads hour'] >= 10) & (marketing['most ads hour'] <= 17)]\n",
    "\n",
    "after_filter_count = filtered_marketing.shape[0]\n",
    "print(f\"Filtre sonrası veri sayısı: {after_filter_count}\")\n",
    "\n",
    "marketing=filtered_marketing\n",
    "\n",
    "\n",
    "columns_to_plot = ['total ads']\n",
    "\n",
    "def remove_outliers(df, column):\n",
    "    Q1 = df[column].quantile(0.25)\n",
    "    Q3 = df[column].quantile(0.75)\n",
    "    IQR = Q3 - Q1\n",
    "    lower_bound = Q1 - 1.5 * IQR\n",
    "    upper_bound = Q3 + 1.5 * IQR\n",
    "    return df[(df[column] >= lower_bound) & (df[column] <= upper_bound)]\n",
    "\n",
    "for column in columns_to_plot:\n",
    "    marketing = remove_outliers(marketing, column)\n",
    "\n",
    "\n",
    "ad_group_size = len(marketing[marketing['test group'] == 'ad'])\n",
    "psa_group_size = len(marketing[marketing['test group'] == 'psa'])\n",
    "\n",
    "print(f\"Ad group size: {ad_group_size}\")\n",
    "print(f\"PSA group size: {psa_group_size}\")\n",
    "\n",
    "\n",
    "\n",
    "sqrt_transformed = np.sqrt(marketing[\"total ads\"].replace(0, np.nan))\n",
    "\n",
    "\n",
    "skewness = sqrt_transformed.skew()\n",
    "    \n",
    "if skewness < -1.0:\n",
    "    skewness_type = 'Highly Skewed (< -1.0): Data is highly asymmetrical with a long left tail.'\n",
    "elif skewness < -0.5:\n",
    "    skewness_type = 'Moderate Negative Skew (-0.5 to -1.0): Data has a noticeable left tail, but not extreme.'\n",
    "elif skewness < 0.5:\n",
    "    skewness_type = 'Fairly Symmetrical (-0.5 to 0.5): Data distribution is close to symmetrical, but might have slight deviations.'\n",
    "elif skewness < 1.0:\n",
    "    skewness_type = 'Moderate Positive Skew (0.5 to 1.0): Data has a noticeable right tail, but not extreme.'\n",
    "else:\n",
    "    skewness_type = 'Highly Skewed (> 1.0): Data is highly asymmetrical with a long right tail.'\n",
    "    \n",
    "print(f\"{column}: Skewness = {skewness:.2f}, Type = {skewness_type}\")\n",
    "\n",
    "\n",
    "marketing[\"total ads\"] = sqrt_transformed\n",
    "\n",
    "ad_group_size = len(marketing[marketing['test group'] == 'ad'])\n",
    "psa_group_size = len(marketing[marketing['test group'] == 'psa'])\n",
    "\n",
    "print(f\"Ad group size: {ad_group_size}\")\n",
    "print(f\"PSA group size: {psa_group_size}\")\n",
    "\n",
    "\n",
    "effect = sms.proportion_effectsize(0.1, 0.15)\n",
    "\n",
    "sample_size = sms.NormalIndPower().solve_power(\n",
    "    effect,\n",
    "    power = 0.8,\n",
    "    alpha = 0.05,\n",
    "    ratio = 1\n",
    ")\n",
    "\n",
    "sample_size = ceil(sample_size)\n",
    "\n",
    "sample_size\n",
    "\n",
    "\n",
    "\n",
    "trt = marketing[marketing['test group'] == 'ad'].sample(n=sample_size, random_state=1)\n",
    "\n",
    "con = marketing[marketing['test group'] == 'psa'].sample(n=sample_size, random_state=1)\n",
    "\n",
    "# Combining into one dataframe and resetting the indices\n",
    "marketing = pd.concat([con, trt], axis=0)\n",
    "marketing.reset_index(drop=True, inplace=True)\n",
    "\n",
    "\n",
    "converted_con = marketing[marketing['test group'] == 'ad']['converted']\n",
    "\n",
    "converted_trt = marketing[marketing['test group'] == 'psa']['converted']\n",
    "\n",
    "n_control = converted_con.count()\n",
    "\n",
    "n_treatment = converted_trt.count()\n",
    "\n",
    "num_converted = [converted_con.sum(), converted_trt.sum()]\n",
    "\n",
    "nobs = [n_control, n_treatment]\n",
    "\n",
    "z_stat, pval = sms.proportions_ztest(num_converted, nobs=nobs)\n",
    "\n",
    "pval\n"
   ]
  },
  {
   "cell_type": "code",
   "execution_count": null,
   "id": "9cbe926e-d803-4e5e-89c1-9841f37ccac4",
   "metadata": {},
   "outputs": [],
   "source": []
  },
  {
   "cell_type": "code",
   "execution_count": null,
   "id": "258b5eb9-a84f-4987-813b-090d340933d7",
   "metadata": {},
   "outputs": [],
   "source": []
  },
  {
   "cell_type": "code",
   "execution_count": null,
   "id": "cfa86728-5880-4e2d-bb43-6193be6c977e",
   "metadata": {},
   "outputs": [],
   "source": []
  },
  {
   "cell_type": "code",
   "execution_count": 33,
   "id": "d9c69ca2-84a5-4d57-954a-46124f6ece88",
   "metadata": {},
   "outputs": [],
   "source": [
    "marketing = pd.read_csv('marketing_AB2.csv')\n",
    "marketing = marketing.drop('Unnamed: 0', axis=1)"
   ]
  },
  {
   "cell_type": "code",
   "execution_count": 37,
   "id": "2ad397ae-d807-4381-8f92-6900a3bc0bba",
   "metadata": {},
   "outputs": [
    {
     "data": {
      "image/png": "[encoded data removed]",
      "text/plain": [
       "<Figure size 1400x600 with 2 Axes>"
      ]
     },
     "metadata": {},
     "output_type": "display_data"
    }
   ],
   "source": [
    "import matplotlib.pyplot as plt\n",
    "import numpy as np\n",
    "\n",
    "hour_counts = marketing['most ads hour'].value_counts().sort_index()\n",
    "plt.figure(figsize=(14, 6))\n",
    "\n",
    "colors = ['red' if 10 <= hour <= 17 else 'green' if 20 <= hour <= 23 else 'lightblue' for hour in hour_counts.index]\n",
    "\n",
    "plt.subplot(1, 2, 1)\n",
    "plt.bar(hour_counts.index, hour_counts.values, color=colors)\n",
    "plt.xlabel('Time')\n",
    "plt.ylabel('Number of Advertisements')\n",
    "plt.title('Number of Advertisements by Hour')\n",
    "plt.grid(axis='y', linestyle='--', alpha=0.7)\n",
    "\n",
    "p_values = [0.03759017968909186, 0.004409116774006641, 0.7951472315657753]\n",
    "p_labels = ['All Hours of the Day', 'Prime Time', 'Between 10 AM and 5 PM']\n",
    "\n",
    "p_colors = ['skyblue', 'green', 'red']  # Test 3 için kırmızı renk\n",
    "\n",
    "plt.subplot(1, 2, 2)\n",
    "bars = plt.bar(p_labels, p_values, color=p_colors)\n",
    "\n",
    "for bar, p_value in zip(bars, p_values):\n",
    "    plt.text(bar.get_x() + bar.get_width() / 2, bar.get_height(),\n",
    "             f'{p_value:.3f}', ha='center', va='bottom', rotation=45)\n",
    "\n",
    "plt.xlabel('Time Slots')\n",
    "plt.ylabel('P Values')\n",
    "plt.title('P Values')\n",
    "plt.grid(axis='y', linestyle='--', alpha=0.7)\n",
    "\n",
    "plt.tight_layout()\n",
    "plt.show()\n"
   ]
  },
  {
   "cell_type": "markdown",
   "id": "8cf70e43-245b-4797-bba0-7fd71764180e",
   "metadata": {},
   "source": [
    "# Conclusion"
   ]
  },
  {
   "cell_type": "markdown",
   "id": "72157f3d-d07b-4c1a-919d-0aadd6f1a6a7",
   "metadata": {},
   "source": [
    "*When analyzing advertisements between 10 AM and 5 PM, the null hypothesis (H0) is accepted, concluding that there is no significant difference.\n",
    "*When examining the time data between 8 PM and 11 PM (prime time), a high level of significance (0.004) indicates that advertisements create significant changes with high accuracy, leading to the acceptance of the alternative hypothesis (H1).\n",
    "\n",
    "Considering these findings, especially when the company is looking to save costs, it can be observed that there is potential for savings from advertisements aired between 10 AM and 5 PM."
   ]
  },
  {
   "cell_type": "code",
   "execution_count": null,
   "id": "b1bb6433-958f-4afe-9fbc-566e8259f9c8",
   "metadata": {},
   "outputs": [],
   "source": []
  }
 ],
 "metadata": {
  "kernelspec": {
   "display_name": "Python 3 (ipykernel)",
   "language": "python",
   "name": "python3"
  },
  "language_info": {
   "codemirror_mode": {
    "name": "ipython",
    "version": 3
   },
   "file_extension": ".py",
   "mimetype": "text/x-python",
   "name": "python",
   "nbconvert_exporter": "python",
   "pygments_lexer": "ipython3",
   "version": "3.9.20"
  }
 },
 "nbformat": 4,
 "nbformat_minor": 5
}
